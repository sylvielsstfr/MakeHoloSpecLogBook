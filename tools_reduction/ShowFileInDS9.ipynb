{
 "cells": [
  {
   "cell_type": "markdown",
   "metadata": {},
   "source": [
    "# Script to send the 16 images to DS9\n",
    "=======================================================\n",
    "\n",
    "Sylvie Dagoret-Campagne"
   ]
  },
  {
   "cell_type": "code",
   "execution_count": 23,
   "metadata": {},
   "outputs": [],
   "source": [
    "import pyds9\n",
    "import os"
   ]
  },
  {
   "cell_type": "code",
   "execution_count": 24,
   "metadata": {},
   "outputs": [
    {
     "name": "stdout",
     "output_type": "stream",
     "text": [
      "10_CCD1_20181025161418.fz  10_CCD1_20181025165048.fz\r\n",
      "10_CCD1_20181025161757.fz  10_CCD1_20181025165205.fz\r\n",
      "10_CCD1_20181025161855.fz  10_CCD1_20181025165644.fz\r\n",
      "10_CCD1_20181025162726.fz  10_CCD1_20181025170008.fz\r\n",
      "10_CCD1_20181025162858.fz  10_CCD1_20181025170257.fz\r\n",
      "10_CCD1_20181025164506.fz  10_CCD1_20181025171431.fz\r\n",
      "10_CCD1_20181025164548.fz  10_CCD1_20181025171625.fz\r\n",
      "10_CCD1_20181025164622.fz  10_CCD1_20181025171730.fz\r\n",
      "10_CCD1_20181025164848.fz  10_CCD1_20181025173846.fz\r\n"
     ]
    }
   ],
   "source": [
    "ls ../data/20181025/"
   ]
  },
  {
   "cell_type": "code",
   "execution_count": 25,
   "metadata": {},
   "outputs": [
    {
     "name": "stdout",
     "output_type": "stream",
     "text": [
      "10_CCD1_20181025173846_ovsc.fz  libHOLOSPECImages.pyc\r\n",
      "ExploreImageBorders.ipynb       libMonocamBaseImages.py\r\n",
      "HOLOSPECReduction.ipynb         libMonocamBaseImages.pyc\r\n",
      "ImageAssembler.ipynb            runOverscan.py\r\n",
      "ShowFileInDS9.ipynb             test.fits\r\n",
      "libHOLOSPECImages.py            test.py\r\n"
     ]
    }
   ],
   "source": [
    "ls"
   ]
  },
  {
   "cell_type": "code",
   "execution_count": 26,
   "metadata": {},
   "outputs": [],
   "source": [
    "path='../data/20181025/'\n",
    "nb_of_channels=16  # number of CCD amplifier channels corresponding to an image inside the fits file\n",
    "file='10_CCD1_20181025173846.fz'"
   ]
  },
  {
   "cell_type": "code",
   "execution_count": 27,
   "metadata": {},
   "outputs": [],
   "source": [
    "path='.'\n",
    "nb_of_channels=16  # number of CCD amplifier channels corresponding to an image inside the fits file\n",
    "file='10_CCD1_20181025173846_ovsc.fz'"
   ]
  },
  {
   "cell_type": "code",
   "execution_count": 28,
   "metadata": {},
   "outputs": [],
   "source": [
    "#path='/Users/dagoret-campagnesylvie/iraf/MonoCamMay2016/20160509'\n",
    "#nb_of_channels=16  # number of CCD amplifier channels corresponding to an image inside the fits file\n",
    "#file='skyflats_01.fits'"
   ]
  },
  {
   "cell_type": "code",
   "execution_count": 29,
   "metadata": {},
   "outputs": [],
   "source": [
    "#path='/Users/dagoret-campagnesylvie/iraf/MonoCamMay2016/20160509/projector'\n",
    "#file='testali_01.fits'\n",
    "#file='rscan_01.fits'"
   ]
  },
  {
   "cell_type": "code",
   "execution_count": 30,
   "metadata": {},
   "outputs": [],
   "source": [
    "fullfilepath=os.path.join(path,file)"
   ]
  },
  {
   "cell_type": "code",
   "execution_count": 31,
   "metadata": {},
   "outputs": [
    {
     "name": "stdout",
     "output_type": "stream",
     "text": [
      "['DS9:ds9 869e5990:63249']\n"
     ]
    }
   ],
   "source": [
    "print(pyds9.ds9_targets())"
   ]
  },
  {
   "cell_type": "code",
   "execution_count": 32,
   "metadata": {},
   "outputs": [],
   "source": [
    "d = pyds9.DS9()"
   ]
  },
  {
   "cell_type": "code",
   "execution_count": 33,
   "metadata": {},
   "outputs": [
    {
     "data": {
      "text/plain": [
       "'./10_CCD1_20181025173846_ovsc.fz'"
      ]
     },
     "execution_count": 33,
     "metadata": {},
     "output_type": "execute_result"
    }
   ],
   "source": [
    "fullfilepath"
   ]
  },
  {
   "cell_type": "code",
   "execution_count": 34,
   "metadata": {},
   "outputs": [],
   "source": [
    "ds9command='grid layout 8 2' \n",
    "d.set(ds9command)\n",
    "# define the zoom\n",
    "ds9command='zoom 0.125'\n",
    "d.set(ds9command)\n",
    "# set the scale\n",
    "ds9command='scale histequ zscale'\n",
    "d.set(ds9command)\n",
    "\n",
    "for channel in range(1,nb_of_channels+1):\n",
    "    # select the frame\n",
    "    ds9command='frame '+ str(channel)\n",
    "    d.set(ds9command)    \n",
    "    # set the scale\n",
    "    ds9command='scale histequ'\n",
    "    d.set(ds9command)\n",
    "    #ds9command='scale zscale'\n",
    "    d.set(ds9command)\n",
    "    # set the color\n",
    "    ds9command='cmap rainbow'\n",
    "    d.set(ds9command)\n",
    "    # define the image\n",
    "    filelist=fullfilepath+'['+str(channel) + ']' \n",
    "    ds9command = 'file '+ filelist\n",
    "    d.set(ds9command)  # send the file to the open ds9 session\n"
   ]
  },
  {
   "cell_type": "code",
   "execution_count": null,
   "metadata": {},
   "outputs": [],
   "source": []
  }
 ],
 "metadata": {
  "kernelspec": {
   "display_name": "Python 2",
   "language": "python",
   "name": "python2"
  },
  "language_info": {
   "codemirror_mode": {
    "name": "ipython",
    "version": 2
   },
   "file_extension": ".py",
   "mimetype": "text/x-python",
   "name": "python",
   "nbconvert_exporter": "python",
   "pygments_lexer": "ipython2",
   "version": "2.7.15"
  },
  "toc": {
   "nav_menu": {},
   "number_sections": true,
   "sideBar": true,
   "skip_h1_title": false,
   "toc_cell": false,
   "toc_position": {},
   "toc_section_display": "block",
   "toc_window_display": false
  }
 },
 "nbformat": 4,
 "nbformat_minor": 1
}
