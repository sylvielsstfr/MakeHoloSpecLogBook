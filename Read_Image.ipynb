{
 "cells": [
  {
   "cell_type": "markdown",
   "metadata": {},
   "source": [
    "# Read Image\n",
    "\n",
    "- author : Sylvie Dagoret-Campagne\n",
    "- date   : 22 Novembre 2018\n",
    "- goal.  : read image"
   ]
  },
  {
   "cell_type": "code",
   "execution_count": 28,
   "metadata": {},
   "outputs": [],
   "source": [
    "from astropy.io import fits"
   ]
  },
  {
   "cell_type": "code",
   "execution_count": 29,
   "metadata": {},
   "outputs": [],
   "source": [
    "from os import listdir\n",
    "from os.path import isfile, join,isdir\n",
    "import os"
   ]
  },
  {
   "cell_type": "code",
   "execution_count": 30,
   "metadata": {},
   "outputs": [],
   "source": [
    "import re"
   ]
  },
  {
   "cell_type": "code",
   "execution_count": 31,
   "metadata": {},
   "outputs": [],
   "source": [
    "import pandas as pd\n",
    "import numpy as np"
   ]
  },
  {
   "cell_type": "code",
   "execution_count": 74,
   "metadata": {},
   "outputs": [],
   "source": [
    "%matplotlib inline\n",
    "import matplotlib.pyplot as plt"
   ]
  },
  {
   "cell_type": "markdown",
   "metadata": {},
   "source": [
    "# Config"
   ]
  },
  {
   "cell_type": "code",
   "execution_count": 32,
   "metadata": {},
   "outputs": [],
   "source": [
    "DUMP_FLAG=True"
   ]
  },
  {
   "cell_type": "code",
   "execution_count": 33,
   "metadata": {},
   "outputs": [
    {
     "name": "stdout",
     "output_type": "stream",
     "text": [
      "\u001b[34m20180717\u001b[m\u001b[m   \u001b[34m20181023\u001b[m\u001b[m   \u001b[34m20181024\u001b[m\u001b[m   \u001b[34m20181025\u001b[m\u001b[m   \u001b[34m20181026\u001b[m\u001b[m   GetData.sh\r\n"
     ]
    }
   ],
   "source": [
    "!ls data"
   ]
  },
  {
   "cell_type": "markdown",
   "metadata": {},
   "source": [
    "# Where to search"
   ]
  },
  {
   "cell_type": "code",
   "execution_count": 34,
   "metadata": {},
   "outputs": [],
   "source": [
    "topdir=\"data\""
   ]
  },
  {
   "cell_type": "code",
   "execution_count": 35,
   "metadata": {},
   "outputs": [],
   "source": [
    "mypath=topdir"
   ]
  },
  {
   "cell_type": "code",
   "execution_count": 36,
   "metadata": {},
   "outputs": [],
   "source": [
    "all_subdir= [f for f in listdir(mypath) if isdir(join(mypath, f)) ]"
   ]
  },
  {
   "cell_type": "code",
   "execution_count": 37,
   "metadata": {},
   "outputs": [
    {
     "name": "stdout",
     "output_type": "stream",
     "text": [
      "['20180717', '20181023', '20181024', '20181025', '20181026']\n"
     ]
    }
   ],
   "source": [
    "print all_subdir"
   ]
  },
  {
   "cell_type": "code",
   "execution_count": 38,
   "metadata": {},
   "outputs": [],
   "source": [
    "subdir=all_subdir[4]"
   ]
  },
  {
   "cell_type": "code",
   "execution_count": 39,
   "metadata": {},
   "outputs": [],
   "source": [
    "mypath=os.path.join(topdir,subdir)"
   ]
  },
  {
   "cell_type": "code",
   "execution_count": 40,
   "metadata": {},
   "outputs": [],
   "source": [
    "only_image_files = [f for f in listdir(mypath) if isfile(join(mypath, f)) and re.search('[.]fz$',f) ]"
   ]
  },
  {
   "cell_type": "code",
   "execution_count": 41,
   "metadata": {},
   "outputs": [
    {
     "name": "stdout",
     "output_type": "stream",
     "text": [
      "['10_CCD1_20181026114351.fz', '10_CCD1_20181026114506.fz', '10_CCD1_20181026114705.fz', '10_CCD1_20181026114914.fz', '10_CCD1_20181026150347.fz']\n"
     ]
    }
   ],
   "source": [
    "print only_image_files"
   ]
  },
  {
   "cell_type": "code",
   "execution_count": 69,
   "metadata": {},
   "outputs": [
    {
     "name": "stdout",
     "output_type": "stream",
     "text": [
      "********************************************************************************\n",
      "Filename: data/20181026/10_CCD1_20181026114351.fz\n",
      "No.    Name      Ver    Type      Cards   Dimensions   Format\n",
      "  0  PRIMARY       1 PrimaryHDU      36   ()      \n",
      "  1  CHAN_00       1 CompImageHDU     21   (576, 2048)   int32   \n",
      "  2  CHAN_01       1 CompImageHDU     21   (576, 2048)   int32   \n",
      "  3  CHAN_02       1 CompImageHDU     21   (576, 2048)   int32   \n",
      "  4  CHAN_03       1 CompImageHDU     21   (576, 2048)   int32   \n",
      "  5  CHAN_04       1 CompImageHDU     21   (576, 2048)   int32   \n",
      "  6  CHAN_05       1 CompImageHDU     21   (576, 2048)   int32   \n",
      "  7  CHAN_06       1 CompImageHDU     21   (576, 2048)   int32   \n",
      "  8  CHAN_07       1 CompImageHDU     21   (576, 2048)   int32   \n",
      "  9  CHAN_08       1 CompImageHDU     21   (576, 2048)   int32   \n",
      " 10  CHAN_09       1 CompImageHDU     21   (576, 2048)   int32   \n",
      " 11  CHAN_10       1 CompImageHDU     21   (576, 2048)   int32   \n",
      " 12  CHAN_11       1 CompImageHDU     21   (576, 2048)   int32   \n",
      " 13  CHAN_12       1 CompImageHDU     21   (576, 2048)   int32   \n",
      " 14  CHAN_13       1 CompImageHDU     21   (576, 2048)   int32   \n",
      " 15  CHAN_14       1 CompImageHDU     21   (576, 2048)   int32   \n",
      " 16  CHAN_15       1 CompImageHDU     21   (576, 2048)   int32   \n",
      " 17  LAKESHORE1    1 ImageHDU        12   (0,)      \n",
      " 18  DS9           1 ImageHDU         7   (0,)      \n",
      " 19  BSS           1 ImageHDU        14   (0,)      \n",
      " 20  QTH           1 ImageHDU        15   (0,)      \n",
      " 21  SEQUENCER     1 TableHDU        48   346R x 1C   [A73]   \n",
      " 22  CORNERSTONE    1 ImageHDU        14   (0,)      \n",
      " 23  CLAP          1 ImageHDU        14   (221875,)   int32   \n",
      " 24  CCD_COND      1 ImageHDU        72   (0,)      \n",
      " 25  TEST_COND     1 ImageHDU         8   ()      \n",
      "********************************************************************************\n",
      "Filename: data/20181026/10_CCD1_20181026114506.fz\n",
      "No.    Name      Ver    Type      Cards   Dimensions   Format\n",
      "  0  PRIMARY       1 PrimaryHDU      36   ()      \n",
      "  1  CHAN_00       1 CompImageHDU     21   (576, 2048)   int32   \n",
      "  2  CHAN_01       1 CompImageHDU     21   (576, 2048)   int32   \n",
      "  3  CHAN_02       1 CompImageHDU     21   (576, 2048)   int32   \n",
      "  4  CHAN_03       1 CompImageHDU     21   (576, 2048)   int32   \n",
      "  5  CHAN_04       1 CompImageHDU     21   (576, 2048)   int32   \n",
      "  6  CHAN_05       1 CompImageHDU     21   (576, 2048)   int32   \n",
      "  7  CHAN_06       1 CompImageHDU     21   (576, 2048)   int32   \n",
      "  8  CHAN_07       1 CompImageHDU     21   (576, 2048)   int32   \n",
      "  9  CHAN_08       1 CompImageHDU     21   (576, 2048)   int32   \n",
      " 10  CHAN_09       1 CompImageHDU     21   (576, 2048)   int32   \n",
      " 11  CHAN_10       1 CompImageHDU     21   (576, 2048)   int32   \n",
      " 12  CHAN_11       1 CompImageHDU     21   (576, 2048)   int32   \n",
      " 13  CHAN_12       1 CompImageHDU     21   (576, 2048)   int32   \n",
      " 14  CHAN_13       1 CompImageHDU     21   (576, 2048)   int32   \n",
      " 15  CHAN_14       1 CompImageHDU     21   (576, 2048)   int32   \n",
      " 16  CHAN_15       1 CompImageHDU     21   (576, 2048)   int32   \n",
      " 17  LAKESHORE1    1 ImageHDU        12   (0,)      \n",
      " 18  DS9           1 ImageHDU         7   (0,)      \n",
      " 19  BSS           1 ImageHDU        14   (0,)      \n",
      " 20  QTH           1 ImageHDU        15   (0,)      \n",
      " 21  SEQUENCER     1 TableHDU        48   346R x 1C   [A73]   \n",
      " 22  CORNERSTONE    1 ImageHDU        14   (0,)      \n",
      " 23  CLAP          1 ImageHDU        14   (221875,)   int32   \n",
      " 24  CCD_COND      1 ImageHDU        72   (0,)      \n",
      " 25  TEST_COND     1 ImageHDU         8   ()      \n",
      "********************************************************************************\n",
      "Filename: data/20181026/10_CCD1_20181026114705.fz\n",
      "No.    Name      Ver    Type      Cards   Dimensions   Format\n",
      "  0  PRIMARY       1 PrimaryHDU      36   ()      \n",
      "  1  CHAN_00       1 CompImageHDU     21   (576, 2048)   int32   \n",
      "  2  CHAN_01       1 CompImageHDU     21   (576, 2048)   int32   \n",
      "  3  CHAN_02       1 CompImageHDU     21   (576, 2048)   int32   \n",
      "  4  CHAN_03       1 CompImageHDU     21   (576, 2048)   int32   \n",
      "  5  CHAN_04       1 CompImageHDU     21   (576, 2048)   int32   \n",
      "  6  CHAN_05       1 CompImageHDU     21   (576, 2048)   int32   \n",
      "  7  CHAN_06       1 CompImageHDU     21   (576, 2048)   int32   \n",
      "  8  CHAN_07       1 CompImageHDU     21   (576, 2048)   int32   \n",
      "  9  CHAN_08       1 CompImageHDU     21   (576, 2048)   int32   \n",
      " 10  CHAN_09       1 CompImageHDU     21   (576, 2048)   int32   \n",
      " 11  CHAN_10       1 CompImageHDU     21   (576, 2048)   int32   \n",
      " 12  CHAN_11       1 CompImageHDU     21   (576, 2048)   int32   \n",
      " 13  CHAN_12       1 CompImageHDU     21   (576, 2048)   int32   \n",
      " 14  CHAN_13       1 CompImageHDU     21   (576, 2048)   int32   \n",
      " 15  CHAN_14       1 CompImageHDU     21   (576, 2048)   int32   \n",
      " 16  CHAN_15       1 CompImageHDU     21   (576, 2048)   int32   \n",
      " 17  LAKESHORE1    1 ImageHDU        12   (0,)      \n",
      " 18  DS9           1 ImageHDU         7   (0,)      \n",
      " 19  BSS           1 ImageHDU        14   (0,)      \n",
      " 20  QTH           1 ImageHDU        15   (0,)      \n",
      " 21  SEQUENCER     1 TableHDU        48   346R x 1C   [A73]   \n",
      " 22  CORNERSTONE    1 ImageHDU        14   (0,)      \n",
      " 23  CLAP          1 ImageHDU        14   (221875,)   int32   \n",
      " 24  CCD_COND      1 ImageHDU        72   (0,)      \n",
      " 25  TEST_COND     1 ImageHDU         8   ()      \n",
      "********************************************************************************\n",
      "Filename: data/20181026/10_CCD1_20181026114914.fz\n",
      "No.    Name      Ver    Type      Cards   Dimensions   Format\n",
      "  0  PRIMARY       1 PrimaryHDU      36   ()      \n",
      "  1  CHAN_00       1 CompImageHDU     21   (576, 2048)   int32   \n",
      "  2  CHAN_01       1 CompImageHDU     21   (576, 2048)   int32   \n",
      "  3  CHAN_02       1 CompImageHDU     21   (576, 2048)   int32   \n",
      "  4  CHAN_03       1 CompImageHDU     21   (576, 2048)   int32   \n",
      "  5  CHAN_04       1 CompImageHDU     21   (576, 2048)   int32   \n",
      "  6  CHAN_05       1 CompImageHDU     21   (576, 2048)   int32   \n",
      "  7  CHAN_06       1 CompImageHDU     21   (576, 2048)   int32   \n",
      "  8  CHAN_07       1 CompImageHDU     21   (576, 2048)   int32   \n",
      "  9  CHAN_08       1 CompImageHDU     21   (576, 2048)   int32   \n",
      " 10  CHAN_09       1 CompImageHDU     21   (576, 2048)   int32   \n",
      " 11  CHAN_10       1 CompImageHDU     21   (576, 2048)   int32   \n",
      " 12  CHAN_11       1 CompImageHDU     21   (576, 2048)   int32   \n",
      " 13  CHAN_12       1 CompImageHDU     21   (576, 2048)   int32   \n",
      " 14  CHAN_13       1 CompImageHDU     21   (576, 2048)   int32   \n",
      " 15  CHAN_14       1 CompImageHDU     21   (576, 2048)   int32   \n",
      " 16  CHAN_15       1 CompImageHDU     21   (576, 2048)   int32   \n",
      " 17  LAKESHORE1    1 ImageHDU        12   (0,)      \n",
      " 18  DS9           1 ImageHDU         7   (0,)      \n",
      " 19  BSS           1 ImageHDU        14   (0,)      \n",
      " 20  QTH           1 ImageHDU        15   (0,)      \n",
      " 21  SEQUENCER     1 TableHDU        48   346R x 1C   [A73]   \n",
      " 22  CORNERSTONE    1 ImageHDU        14   (0,)      \n",
      " 23  CLAP          1 ImageHDU        14   (221875,)   int32   \n",
      " 24  CCD_COND      1 ImageHDU        72   (0,)      \n",
      " 25  TEST_COND     1 ImageHDU         8   ()      \n",
      "********************************************************************************\n",
      "Filename: data/20181026/10_CCD1_20181026150347.fz\n",
      "No.    Name      Ver    Type      Cards   Dimensions   Format\n",
      "  0  PRIMARY       1 PrimaryHDU      36   ()      \n",
      "  1  CHAN_00       1 CompImageHDU     21   (576, 2048)   int32   \n",
      "  2  CHAN_01       1 CompImageHDU     21   (576, 2048)   int32   \n",
      "  3  CHAN_02       1 CompImageHDU     21   (576, 2048)   int32   \n",
      "  4  CHAN_03       1 CompImageHDU     21   (576, 2048)   int32   \n",
      "  5  CHAN_04       1 CompImageHDU     21   (576, 2048)   int32   \n",
      "  6  CHAN_05       1 CompImageHDU     21   (576, 2048)   int32   \n",
      "  7  CHAN_06       1 CompImageHDU     21   (576, 2048)   int32   \n",
      "  8  CHAN_07       1 CompImageHDU     21   (576, 2048)   int32   \n",
      "  9  CHAN_08       1 CompImageHDU     21   (576, 2048)   int32   \n",
      " 10  CHAN_09       1 CompImageHDU     21   (576, 2048)   int32   \n",
      " 11  CHAN_10       1 CompImageHDU     21   (576, 2048)   int32   \n",
      " 12  CHAN_11       1 CompImageHDU     21   (576, 2048)   int32   \n",
      " 13  CHAN_12       1 CompImageHDU     21   (576, 2048)   int32   \n",
      " 14  CHAN_13       1 CompImageHDU     21   (576, 2048)   int32   \n",
      " 15  CHAN_14       1 CompImageHDU     21   (576, 2048)   int32   \n",
      " 16  CHAN_15       1 CompImageHDU     21   (576, 2048)   int32   \n",
      " 17  LAKESHORE1    1 ImageHDU        12   (0,)      \n",
      " 18  DS9           1 ImageHDU         7   (0,)      \n",
      " 19  BSS           1 ImageHDU        14   (0,)      \n",
      " 20  QTH           1 ImageHDU        15   (0,)      \n",
      " 21  SEQUENCER     1 TableHDU        48   346R x 1C   [A73]   \n",
      " 22  CORNERSTONE    1 ImageHDU        14   (0,)      \n",
      " 23  CLAP          1 ImageHDU        14   (221875,)   int32   \n",
      " 24  CCD_COND      1 ImageHDU        72   (0,)      \n",
      " 25  TEST_COND     1 ImageHDU         8   ()      \n"
     ]
    }
   ],
   "source": [
    "all_hdus=[]\n",
    "all_img=[]\n",
    "all_hd=[]\n",
    "for fits_image_filename in only_image_files:\n",
    "    print '********************************************************************************'\n",
    "    fullfilename=os.path.join(mypath,fits_image_filename)\n",
    "    with fits.open(fullfilename) as hdus:\n",
    "        hdus.info()\n",
    "        all_hd.append(hdus[0].header)\n",
    "        all_ampl=[]\n",
    "        for index in np.arange(1,17):\n",
    "            all_ampl.append(hdus[index].data)\n",
    "        all_img.append(all_ampl)"
   ]
  },
  {
   "cell_type": "code",
   "execution_count": 73,
   "metadata": {},
   "outputs": [],
   "source": [
    "NBIMG=len(all_hd)"
   ]
  },
  {
   "cell_type": "code",
   "execution_count": 75,
   "metadata": {},
   "outputs": [],
   "source": [
    "selected_image=0"
   ]
  },
  {
   "cell_type": "code",
   "execution_count": 76,
   "metadata": {},
   "outputs": [],
   "source": [
    "imgs=all_img[selected_image]"
   ]
  },
  {
   "cell_type": "code",
   "execution_count": 92,
   "metadata": {},
   "outputs": [
    {
     "data": {
      "text/plain": [
       "<matplotlib.image.AxesImage at 0x13ba28a10>"
      ]
     },
     "execution_count": 92,
     "metadata": {},
     "output_type": "execute_result"
    },
    {
     "data": {
      "image/png": "[encoded data removed]",
      "text/plain": [
       "<Figure size 432x288 with 1 Axes>"
      ]
     },
     "metadata": {
      "needs_background": "light"
     },
     "output_type": "display_data"
    }
   ],
   "source": [
    "plt.imshow(imgs[15])"
   ]
  },
  {
   "cell_type": "code",
   "execution_count": null,
   "metadata": {},
   "outputs": [],
   "source": []
  }
 ],
 "metadata": {
  "kernelspec": {
   "display_name": "Python 2",
   "language": "python",
   "name": "python2"
  },
  "language_info": {
   "codemirror_mode": {
    "name": "ipython",
    "version": 2
   },
   "file_extension": ".py",
   "mimetype": "text/x-python",
   "name": "python",
   "nbconvert_exporter": "python",
   "pygments_lexer": "ipython2",
   "version": "2.7.15"
  },
  "toc": {
   "nav_menu": {},
   "number_sections": true,
   "sideBar": true,
   "skip_h1_title": false,
   "toc_cell": false,
   "toc_position": {},
   "toc_section_display": "block",
   "toc_window_display": false
  }
 },
 "nbformat": 4,
 "nbformat_minor": 2
}
