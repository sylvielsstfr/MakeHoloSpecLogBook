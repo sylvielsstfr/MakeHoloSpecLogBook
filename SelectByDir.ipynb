{
 "cells": [
  {
   "cell_type": "code",
   "execution_count": 8,
   "metadata": {},
   "outputs": [],
   "source": [
    "import numpy as np"
   ]
  },
  {
   "cell_type": "code",
   "execution_count": 9,
   "metadata": {},
   "outputs": [],
   "source": [
    "datelist=np.array(['20180706', '20180717', '20180704', '20180910', '20180624',\n",
    "       '20181028', '20181030', '20180725', '20180712', '20180622',\n",
    "       '20180903', '20180723', '20180927', '20181023', '20180718',\n",
    "       '20180628', '20181008', '20180721', '20180705', '20180716',\n",
    "       '20180626', '20181029', '20180907', '20181016', '20180928',\n",
    "       '20180905', '20180709', '20180619', '20180621', '20181001',\n",
    "       '20181025', '20180926', '20181012', '20180627', '20180604',\n",
    "       '20180720', '20180715', '20180625', '20181005', '20180906',\n",
    "       '20181031', '20180726', '20180917', '20180607', '20181026',\n",
    "       '20180904', '20180618', '20181024', '20180719'], dtype='|S8')"
   ]
  },
  {
   "cell_type": "code",
   "execution_count": 16,
   "metadata": {},
   "outputs": [],
   "source": [
    "sorted_datelist=np.sort(datelist)"
   ]
  },
  {
   "cell_type": "code",
   "execution_count": 17,
   "metadata": {},
   "outputs": [
    {
     "data": {
      "text/plain": [
       "array(['20180604', '20180607', '20180618', '20180619', '20180621',\n",
       "       '20180622', '20180624', '20180625', '20180626', '20180627',\n",
       "       '20180628', '20180704', '20180705', '20180706', '20180709',\n",
       "       '20180712', '20180715', '20180716', '20180717', '20180718',\n",
       "       '20180719', '20180720', '20180721', '20180723', '20180725',\n",
       "       '20180726', '20180903', '20180904', '20180905', '20180906',\n",
       "       '20180907', '20180910', '20180917', '20180926', '20180927',\n",
       "       '20180928', '20181001', '20181005', '20181008', '20181012',\n",
       "       '20181016', '20181023', '20181024', '20181025', '20181026',\n",
       "       '20181028', '20181029', '20181030', '20181031'], dtype='|S8')"
      ]
     },
     "execution_count": 17,
     "metadata": {},
     "output_type": "execute_result"
    }
   ],
   "source": [
    "sorted_datelist"
   ]
  },
  {
   "cell_type": "code",
   "execution_count": null,
   "metadata": {},
   "outputs": [],
   "source": []
  },
  {
   "cell_type": "code",
   "execution_count": null,
   "metadata": {},
   "outputs": [],
   "source": []
  }
 ],
 "metadata": {
  "kernelspec": {
   "display_name": "Python 2",
   "language": "python",
   "name": "python2"
  },
  "language_info": {
   "codemirror_mode": {
    "name": "ipython",
    "version": 2
   },
   "file_extension": ".py",
   "mimetype": "text/x-python",
   "name": "python",
   "nbconvert_exporter": "python",
   "pygments_lexer": "ipython2",
   "version": "2.7.15"
  },
  "toc": {
   "nav_menu": {},
   "number_sections": true,
   "sideBar": true,
   "skip_h1_title": false,
   "toc_cell": false,
   "toc_position": {},
   "toc_section_display": "block",
   "toc_window_display": false
  }
 },
 "nbformat": 4,
 "nbformat_minor": 2
}
